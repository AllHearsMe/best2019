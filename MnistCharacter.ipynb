{
 "cells": [
  {
   "cell_type": "code",
   "execution_count": 8,
   "metadata": {},
   "outputs": [],
   "source": [
    "from keras import layers\n",
    "from keras import models\n",
    "from keras import optimizers"
   ]
  },
  {
   "cell_type": "code",
   "execution_count": 13,
   "metadata": {},
   "outputs": [],
   "source": [
    "def createModel():\n",
    "    inp = layers.Input(shape=(100,40,1))\n",
    "    mod = layers.Conv2D(16,(3,3), activation=\"relu\")(inp)\n",
    "    mod = layers.MaxPool2D(pool_size=(2, 2))(mod)\n",
    "    mod = layers.Conv2D(32,(3,3), activation=\"relu\")(mod)\n",
    "    mod = layers.MaxPool2D(pool_size=(2, 2))(mod)\n",
    "    mod = layers.Conv2D(64,(3,3), activation=\"relu\")(mod)\n",
    "    mod = layers.MaxPool2D(pool_size=(2, 2))(mod)\n",
    "    mod = layers.Flatten()(mod)\n",
    "    mod = layers.Dense(64, activation=\"relu\")(mod)\n",
    "    out = layers.Dense(44, activation=\"softmax\")(mod)\n",
    "    \n",
    "    model = models.Model(inputs=inp, outputs=out)\n",
    "    model.compile(optimizer=optimizers.Adam(lr=0.001),\n",
    "                  loss='binary_crossentropy',\n",
    "                  metrics=['accuracy'])\n",
    "    print(model.summary())\n",
    "    return model\n"
   ]
  },
  {
   "cell_type": "code",
   "execution_count": 14,
   "metadata": {},
   "outputs": [
    {
     "name": "stdout",
     "output_type": "stream",
     "text": [
      "_________________________________________________________________\n",
      "Layer (type)                 Output Shape              Param #   \n",
      "=================================================================\n",
      "input_5 (InputLayer)         (None, 100, 40, 1)        0         \n",
      "_________________________________________________________________\n",
      "conv2d_11 (Conv2D)           (None, 98, 38, 16)        160       \n",
      "_________________________________________________________________\n",
      "max_pooling2d_10 (MaxPooling (None, 49, 19, 16)        0         \n",
      "_________________________________________________________________\n",
      "conv2d_12 (Conv2D)           (None, 47, 17, 32)        4640      \n",
      "_________________________________________________________________\n",
      "max_pooling2d_11 (MaxPooling (None, 23, 8, 32)         0         \n",
      "_________________________________________________________________\n",
      "conv2d_13 (Conv2D)           (None, 21, 6, 64)         18496     \n",
      "_________________________________________________________________\n",
      "max_pooling2d_12 (MaxPooling (None, 10, 3, 64)         0         \n",
      "_________________________________________________________________\n",
      "flatten_4 (Flatten)          (None, 1920)              0         \n",
      "_________________________________________________________________\n",
      "dense_7 (Dense)              (None, 64)                122944    \n",
      "_________________________________________________________________\n",
      "dense_8 (Dense)              (None, 44)                2860      \n",
      "=================================================================\n",
      "Total params: 149,100\n",
      "Trainable params: 149,100\n",
      "Non-trainable params: 0\n",
      "_________________________________________________________________\n",
      "None\n"
     ]
    }
   ],
   "source": [
    "model = createModel()"
   ]
  },
  {
   "cell_type": "code",
   "execution_count": null,
   "metadata": {},
   "outputs": [],
   "source": []
  }
 ],
 "metadata": {
  "kernelspec": {
   "display_name": "Python 3",
   "language": "python",
   "name": "python3"
  },
  "language_info": {
   "codemirror_mode": {
    "name": "ipython",
    "version": 3
   },
   "file_extension": ".py",
   "mimetype": "text/x-python",
   "name": "python",
   "nbconvert_exporter": "python",
   "pygments_lexer": "ipython3",
   "version": "3.6.1"
  }
 },
 "nbformat": 4,
 "nbformat_minor": 2
}
